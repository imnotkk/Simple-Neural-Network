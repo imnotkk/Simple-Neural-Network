{
 "cells": [
  {
   "cell_type": "code",
   "execution_count": 1,
   "metadata": {
    "collapsed": true
   },
   "outputs": [],
   "source": [
    "import numpy as np"
   ]
  },
  {
   "cell_type": "code",
   "execution_count": 2,
   "metadata": {
    "collapsed": true
   },
   "outputs": [],
   "source": [
    "X = np.array([[1,0,1,0],[1,0,1,1],[0,1,0,1]])"
   ]
  },
  {
   "cell_type": "code",
   "execution_count": 3,
   "metadata": {
    "collapsed": true
   },
   "outputs": [],
   "source": [
    "y = np.array([[1],[1],[0]])"
   ]
  },
  {
   "cell_type": "code",
   "execution_count": 4,
   "metadata": {
    "collapsed": true
   },
   "outputs": [],
   "source": [
    "def sigmoid(x):\n",
    "    z = 1/(1 + np.exp(-x))\n",
    "    return z"
   ]
  },
  {
   "cell_type": "code",
   "execution_count": 5,
   "metadata": {
    "collapsed": true
   },
   "outputs": [],
   "source": [
    "def derivatives_sigmoid(x):\n",
    "    z = x*(1-x)\n",
    "    return z"
   ]
  },
  {
   "cell_type": "code",
   "execution_count": 6,
   "metadata": {
    "collapsed": true
   },
   "outputs": [],
   "source": [
    "# EPOCH - The number of iterations(forward + backward cycle to happen for the updation of weights)\n",
    "# more epochs the better error(less) i.e less delta leading to a good model but more cokmputationally expensive\n",
    "epoch = 5000\n",
    "lr = 0.1 # lr is the LEARNING RATE i.e the value by which the weights should be modified while back propagting.\n",
    "inputlayer_neurons = X.shape[1] #the number of features in dataset\n",
    "hiddenlayer_neurons = 3\n",
    "outputlayer_neurons = 1"
   ]
  },
  {
   "cell_type": "code",
   "execution_count": 7,
   "metadata": {
    "collapsed": true
   },
   "outputs": [],
   "source": [
    "#WEIGHT AND BIAS initialisation\n",
    "#weight and bias are randomly initialised.\n",
    "wh = np.random.uniform(size=(inputlayer_neurons,hiddenlayer_neurons))\n",
    "bh = np.random.uniform(size=(1,hiddenlayer_neurons))\n",
    "wout = np.random.uniform(size=(hiddenlayer_neurons,outputlayer_neurons))\n",
    "bout = np.random.uniform(size=(1,outputlayer_neurons))"
   ]
  },
  {
   "cell_type": "code",
   "execution_count": 9,
   "metadata": {},
   "outputs": [
    {
     "name": "stdout",
     "output_type": "stream",
     "text": [
      "[[ 0.98098079]\n",
      " [ 0.9701129 ]\n",
      " [ 0.03977004]]\n"
     ]
    }
   ],
   "source": [
    "#CODE  - \n",
    "\n",
    "for i in range(epoch):\n",
    "    \n",
    "    #FORWARD PROPOGATION - \n",
    "    hidden_layer_input1 = np.dot(X,wh)\n",
    "    hidden_layer_input = hidden_layer_input1 + bh\n",
    "    hidden_layer_activations = sigmoid(hidden_layer_input)\n",
    "    output_layer_input1 = np.dot(hidden_layer_activations,wout)\n",
    "    output_layer_input = output_layer_input1 + bout\n",
    "    output = sigmoid(output_layer_input)\n",
    "    \n",
    "    #BACKWARD PROPOGATION\n",
    "    E = y - output\n",
    "    slope_output_layer = derivatives_sigmoid(output)\n",
    "    slope_hidden_layer = derivatives_sigmoid(hidden_layer_activations)\n",
    "    d_output = E * slope_output_layer\n",
    "    \n",
    "    error_hidden_layer = d_output.dot(wout.T)\n",
    "    d_hidden_layer = error_hidden_layer * slope_hidden_layer\n",
    "    wout = wout + hidden_layer_activations.T.dot(d_output)*lr\n",
    "    bout = bout + np.sum(d_output, axis=0, keepdims=True)*lr\n",
    "    wh = wh + X.T.dot(d_hidden_layer) * lr\n",
    "    bh = bh + np.sum(d_hidden_layer, axis=0, keepdims=True) * lr\n",
    "\n",
    "print(output)"
   ]
  },
  {
   "cell_type": "code",
   "execution_count": null,
   "metadata": {
    "collapsed": true
   },
   "outputs": [],
   "source": [
    "#END LOL. :)"
   ]
  }
 ],
 "metadata": {
  "kernelspec": {
   "display_name": "Python 3",
   "language": "python",
   "name": "python3"
  },
  "language_info": {
   "codemirror_mode": {
    "name": "ipython",
    "version": 3
   },
   "file_extension": ".py",
   "mimetype": "text/x-python",
   "name": "python",
   "nbconvert_exporter": "python",
   "pygments_lexer": "ipython3",
   "version": "3.6.1"
  }
 },
 "nbformat": 4,
 "nbformat_minor": 2
}
